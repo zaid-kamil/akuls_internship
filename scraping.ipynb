{
 "cells": [
  {
   "cell_type": "code",
   "execution_count": 1,
   "metadata": {},
   "outputs": [],
   "source": [
    "import requests #  collect the page from the web\n",
    "from bs4 import BeautifulSoup # parse the page\n",
    "from fake_useragent import UserAgent\n",
    "import re # regular expression"
   ]
  },
  {
   "cell_type": "code",
   "execution_count": null,
   "metadata": {},
   "outputs": [],
   "source": []
  },
  {
   "cell_type": "code",
   "execution_count": 2,
   "metadata": {},
   "outputs": [
    {
     "name": "stdout",
     "output_type": "stream",
     "text": [
      "<Response [200]>\n",
      "Page found\n"
     ]
    }
   ],
   "source": [
    "url = \"https://www.flipkart.com/kutchina-30-litre-zephire-30-l-oven-toaster-grill-otg/p/itm3d3c6ab9d4d21?pid=OTNG588ZAWHPJYDN&lid=LSTOTNG588ZAWHPJYDNHB6R6C&marketplace=FLIPKART&store=j9e&srno=b_1_1&otracker=hp_omu_Deals%2Bof%2Bthe%2BDay_3_4.dealCard.OMU_4ZMLVX21QJTE_3&otracker1=hp_omu_SECTIONED_manualRanking_neo%2Fmerchandising_Deals%2Bof%2Bthe%2BDay_NA_dealCard_cc_3_NA_view-all_3&fm=neo%2Fmerchandising&iid=en_V%2F0BkRFD1boi3cNwKkdgc0piprvwej05Yr6e5hVxQqkt%2BngFnJt8PPGlzYydDvbbUI9KK8j0uR3%2BJbDGNhRlAA%3D%3D&ppt=browse&ppn=browse&ssid=hcsdbg8akw0000001654579958364\"\n",
    "ua = UserAgent()\n",
    "headers = {'User-Agent': ua.random}\n",
    "page = requests.get(\n",
    "    url, \n",
    "    headers=headers,\n",
    "    cookies={\n",
    "        \"session-id\":\"\", \"session-id-time\":\"\", \"session-token\":\"\"\n",
    "    })\n",
    "print(page)\n",
    "if page.status_code == 404:\n",
    "    print(\"Page not found\")\n",
    "elif page.status_code == 503:\n",
    "    print(\"Service unavailable\")\n",
    "elif page.status_code == 200:\n",
    "    print(\"Page found\")\n",
    "    soup = BeautifulSoup(page.content, 'html.parser')\n",
    "    "
   ]
  },
  {
   "cell_type": "code",
   "execution_count": 3,
   "metadata": {},
   "outputs": [],
   "source": [
    "def validate_url(url):\n",
    "    regex = re.compile(r'^(?:http)s?://',re.IGNORECASE)\n",
    "    return re.match(regex, url) is not None\n",
    "\n",
    "def clean_url(url):\n",
    "    if '?' in url:\n",
    "        url = url.split('?')[0]\n",
    "    return url"
   ]
  },
  {
   "cell_type": "code",
   "execution_count": 4,
   "metadata": {},
   "outputs": [
    {
     "name": "stdout",
     "output_type": "stream",
     "text": [
      "https://www.amazon.in/s\n"
     ]
    },
    {
     "data": {
      "text/plain": [
       "True"
      ]
     },
     "execution_count": 4,
     "metadata": {},
     "output_type": "execute_result"
    }
   ],
   "source": [
    "url = \"https://www.amazon.in/s?k=headphones&crid=2VVV3IUUC62ND&sprefix=headphones%2Caps%2C220&ref=nb_sb_noss_1\"\n",
    "c_url = clean_url(url) \n",
    "print(c_url)\n",
    "validate_url(url)"
   ]
  },
  {
   "cell_type": "code",
   "execution_count": 11,
   "metadata": {},
   "outputs": [],
   "source": [
    "def get_page(url,headers=None,cookies=None,clean=True):\n",
    "    if clean:\n",
    "        url = clean_url(url)\n",
    "    if not validate_url(url):\n",
    "        print(f\"Invalid url : {url}\")\n",
    "        return None\n",
    "    ua = UserAgent()\n",
    "    if headers is None:\n",
    "        headers = {'User-Agent': ua.random}\n",
    "    if cookies is None:\n",
    "        cookies = {\n",
    "            \"session-id\":\"\", \"session-id-time\":\"\", \"session-token\":\"\"\n",
    "        }\n",
    "    page = requests.get(url,headers=headers,cookies=cookies)\n",
    "    if page.status_code == 404:\n",
    "        print(\"Page not found\")\n",
    "        return None\n",
    "    elif page.status_code == 503:\n",
    "        print(\"Service unavailable\")\n",
    "        return None\n",
    "    elif page.status_code == 200:\n",
    "        soup = BeautifulSoup(page.content, 'html.parser')\n",
    "        return soup"
   ]
  },
  {
   "cell_type": "code",
   "execution_count": 8,
   "metadata": {},
   "outputs": [],
   "source": [
    "soup = get_page(url)"
   ]
  },
  {
   "cell_type": "code",
   "execution_count": null,
   "metadata": {},
   "outputs": [],
   "source": [
    "soup"
   ]
  },
  {
   "cell_type": "code",
   "execution_count": 12,
   "metadata": {},
   "outputs": [],
   "source": [
    "soup = get_page(url=\"https://www.amazon.in/s?k=headphones&crid=2VVV3IUUC62ND&sprefix=headphones%2Caps%2C220&ref=nb_sb_noss_1\",clean=False)"
   ]
  },
  {
   "cell_type": "markdown",
   "metadata": {},
   "source": [
    "# soup data extraction"
   ]
  },
  {
   "cell_type": "code",
   "execution_count": 13,
   "metadata": {},
   "outputs": [
    {
     "data": {
      "text/plain": [
       "bs4.BeautifulSoup"
      ]
     },
     "execution_count": 13,
     "metadata": {},
     "output_type": "execute_result"
    }
   ],
   "source": [
    "type(soup)"
   ]
  },
  {
   "cell_type": "code",
   "execution_count": 14,
   "metadata": {},
   "outputs": [
    {
     "name": "stdout",
     "output_type": "stream",
     "text": [
      "item can be used\n"
     ]
    }
   ],
   "source": [
    "\n",
    "if isinstance(soup, BeautifulSoup):\n",
    "    print('item can be used')\n",
    "else:\n",
    "    print(\"error\")"
   ]
  },
  {
   "cell_type": "code",
   "execution_count": 10,
   "metadata": {},
   "outputs": [
    {
     "data": {
      "text/plain": [
       "'        Logitech B100 Wired USB Mouse, 3 yr Warranty, 800 DPI Optical Tracking, Ambidextrous PC/Mac/Laptop - Black       '"
      ]
     },
     "execution_count": 10,
     "metadata": {},
     "output_type": "execute_result"
    }
   ],
   "source": [
    "soup.find('span',attrs={'id':'productTitle'}).text"
   ]
  },
  {
   "cell_type": "code",
   "execution_count": 11,
   "metadata": {},
   "outputs": [
    {
     "data": {
      "text/plain": [
       "'245.'"
      ]
     },
     "execution_count": 11,
     "metadata": {},
     "output_type": "execute_result"
    }
   ],
   "source": [
    "soup.find('span',attrs={'class':'a-price-whole'}).text"
   ]
  },
  {
   "cell_type": "code",
   "execution_count": 12,
   "metadata": {},
   "outputs": [
    {
     "data": {
      "text/plain": [
       "'/stores/Logitech/page/EB4825FF-261C-4334-A53E-A746981F7C24?ref_=ast_bln'"
      ]
     },
     "execution_count": 12,
     "metadata": {},
     "output_type": "execute_result"
    }
   ],
   "source": [
    "soup.find('a',attrs={'id':'bylineInfo'}).attrs.get('href')"
   ]
  },
  {
   "cell_type": "code",
   "execution_count": 26,
   "metadata": {},
   "outputs": [],
   "source": [
    "def extract_one(soup, **selectors):\n",
    "    if not isinstance(soup,BeautifulSoup):\n",
    "        print(\"Not a BeautifulSoup object\")\n",
    "        return None\n",
    "    data = {}\n",
    "    for key,info in selectors.items():\n",
    "        tag = info.get('t','div')\n",
    "        attrs = info.get('a',None)\n",
    "        out = info.get('o','text')\n",
    "        if out == 'text':\n",
    "            data[key] = soup.find(tag,attrs=attrs).text\n",
    "        elif out == 'href':\n",
    "            data[key] = soup.find(tag,attrs=attrs).attrs.get('href')\n",
    "        elif out == 'src':\n",
    "            data[key] = soup.find(tag,attrs=attrs).attrs.get('src')\n",
    "    return data\n",
    "    "
   ]
  },
  {
   "cell_type": "code",
   "execution_count": 27,
   "metadata": {},
   "outputs": [
    {
     "name": "stdout",
     "output_type": "stream",
     "text": [
      "{'title': '        Logitech B100 Wired USB Mouse, 3 yr Warranty, 800 DPI Optical Tracking, Ambidextrous PC/Mac/Laptop - Black       ', 'price': '245.', 'link': '/stores/Logitech/page/EB4825FF-261C-4334-A53E-A746981F7C24?ref_=ast_bln', 'total_rating': '26,377 ratings'}\n"
     ]
    }
   ],
   "source": [
    "titleDict = {'t':'span','a':{'id':'productTitle'}}\n",
    "priceDict = {'t':'span','a':{'class':'a-price-whole'}}\n",
    "linkDict = {'t':'a','a':{'id':'bylineInfo'},'o':'href'}\n",
    "totalRating = dict(t='span',a={'id':'acrCustomerReviewText'})\n",
    "print(extract_one(soup,title=titleDict,price=priceDict,link=linkDict,total_rating=totalRating))"
   ]
  },
  {
   "cell_type": "markdown",
   "metadata": {},
   "source": [
    "extracting a list"
   ]
  },
  {
   "cell_type": "code",
   "execution_count": 16,
   "metadata": {},
   "outputs": [],
   "source": [
    "# target area that contains the displayed data\n",
    "target = soup.find('div',attrs={'class':'s-main-slot s-result-list s-search-results sg-row'})\n",
    "if target is None:\n",
    "    print(\"No data found\")\n"
   ]
  },
  {
   "cell_type": "code",
   "execution_count": 20,
   "metadata": {},
   "outputs": [
    {
     "name": "stdout",
     "output_type": "stream",
     "text": [
      "31 items found\n"
     ]
    }
   ],
   "source": [
    "items = target.find_all('div',attrs={'class':'s-result-item'})\n",
    "item_count = len(items)\n",
    "if item_count == 0:\n",
    "    print(\"No data found\")\n",
    "else:\n",
    "    print(f\"{item_count} items found\")"
   ]
  },
  {
   "cell_type": "code",
   "execution_count": 40,
   "metadata": {},
   "outputs": [],
   "source": [
    "data_list = []\n",
    "for item in items:\n",
    "    try:\n",
    "        title = item.find('h2',attrs={'class':'a-size-mini a-spacing-none a-color-base s-line-clamp-2'}).text\n",
    "    except:\n",
    "        title = None\n",
    "    try:\n",
    "        price = item.find('span',attrs={'class':'a-price-whole'}).text\n",
    "    except:\n",
    "        price = None\n",
    "    try:\n",
    "        rating = item.find('span',attrs={'class':'a-icon-alt'}).text\n",
    "    except:\n",
    "        rating = None\n",
    "    if title is not None and price is not None and rating is not None:\n",
    "        data_list.append({\n",
    "            'title':title,\n",
    "            'price':price,\n",
    "            'rating':rating\n",
    "        })"
   ]
  },
  {
   "cell_type": "code",
   "execution_count": 44,
   "metadata": {},
   "outputs": [],
   "source": [
    "import pandas as pd"
   ]
  },
  {
   "cell_type": "code",
   "execution_count": 45,
   "metadata": {},
   "outputs": [
    {
     "data": {
      "text/html": [
       "<div>\n",
       "<style scoped>\n",
       "    .dataframe tbody tr th:only-of-type {\n",
       "        vertical-align: middle;\n",
       "    }\n",
       "\n",
       "    .dataframe tbody tr th {\n",
       "        vertical-align: top;\n",
       "    }\n",
       "\n",
       "    .dataframe thead th {\n",
       "        text-align: right;\n",
       "    }\n",
       "</style>\n",
       "<table border=\"1\" class=\"dataframe\">\n",
       "  <thead>\n",
       "    <tr style=\"text-align: right;\">\n",
       "      <th></th>\n",
       "      <th>title</th>\n",
       "      <th>price</th>\n",
       "      <th>rating</th>\n",
       "    </tr>\n",
       "  </thead>\n",
       "  <tbody>\n",
       "    <tr>\n",
       "      <th>0</th>\n",
       "      <td>Infinity (JBL) Glide 510, 72 Hrs Playtime with...</td>\n",
       "      <td>1,499</td>\n",
       "      <td>4.2 out of 5 stars</td>\n",
       "    </tr>\n",
       "    <tr>\n",
       "      <th>1</th>\n",
       "      <td>Lenovo 110 Wired On Ear Headphones with Mic (W...</td>\n",
       "      <td>1,699</td>\n",
       "      <td>4.2 out of 5 stars</td>\n",
       "    </tr>\n",
       "    <tr>\n",
       "      <th>2</th>\n",
       "      <td>boAt Rockerz 550 Bluetooth Wireless Over Ear H...</td>\n",
       "      <td>1,799</td>\n",
       "      <td>4.1 out of 5 stars</td>\n",
       "    </tr>\n",
       "    <tr>\n",
       "      <th>3</th>\n",
       "      <td>boAt Bassheads 100 Wired in Ear Earphones with...</td>\n",
       "      <td>379</td>\n",
       "      <td>4.1 out of 5 stars</td>\n",
       "    </tr>\n",
       "    <tr>\n",
       "      <th>4</th>\n",
       "      <td>boAt Rockerz 450 Bluetooth Wireless On Ear Hea...</td>\n",
       "      <td>1,499</td>\n",
       "      <td>4.1 out of 5 stars</td>\n",
       "    </tr>\n",
       "    <tr>\n",
       "      <th>5</th>\n",
       "      <td>Logitech H111 Wired Over Ear Headphones With M...</td>\n",
       "      <td>798</td>\n",
       "      <td>4.0 out of 5 stars</td>\n",
       "    </tr>\n",
       "    <tr>\n",
       "      <th>6</th>\n",
       "      <td>boAt Rockerz 450 Bluetooth Wireless On Ear Hea...</td>\n",
       "      <td>1,399</td>\n",
       "      <td>4.1 out of 5 stars</td>\n",
       "    </tr>\n",
       "    <tr>\n",
       "      <th>7</th>\n",
       "      <td>boAt Bassheads 900 Wired On Ear Headphones wit...</td>\n",
       "      <td>799</td>\n",
       "      <td>4.2 out of 5 stars</td>\n",
       "    </tr>\n",
       "    <tr>\n",
       "      <th>8</th>\n",
       "      <td>boAt Rockerz 510 Bluetooth Wireless Over Ear H...</td>\n",
       "      <td>1,399</td>\n",
       "      <td>4.2 out of 5 stars</td>\n",
       "    </tr>\n",
       "    <tr>\n",
       "      <th>9</th>\n",
       "      <td>pTron Pride Lite HBE (High Bass Earphones) in-...</td>\n",
       "      <td>199</td>\n",
       "      <td>3.6 out of 5 stars</td>\n",
       "    </tr>\n",
       "    <tr>\n",
       "      <th>10</th>\n",
       "      <td>Sony MDR-ZX110A Wired On Ear Headphone without...</td>\n",
       "      <td>599</td>\n",
       "      <td>4.0 out of 5 stars</td>\n",
       "    </tr>\n",
       "    <tr>\n",
       "      <th>11</th>\n",
       "      <td>Boat Rockerz 425 Bluetooth Wireless Over Ear H...</td>\n",
       "      <td>1,299</td>\n",
       "      <td>3.9 out of 5 stars</td>\n",
       "    </tr>\n",
       "    <tr>\n",
       "      <th>12</th>\n",
       "      <td>JBL Tune 215BT, 16 Hrs Playtime with Quick Cha...</td>\n",
       "      <td>1,499</td>\n",
       "      <td>3.9 out of 5 stars</td>\n",
       "    </tr>\n",
       "    <tr>\n",
       "      <th>13</th>\n",
       "      <td>pTron Studio Lite Stereo Sound Wired Over Ear ...</td>\n",
       "      <td>399</td>\n",
       "      <td>3.5 out of 5 stars</td>\n",
       "    </tr>\n",
       "    <tr>\n",
       "      <th>14</th>\n",
       "      <td>boAt Rockerz 550 Bluetooth Wireless Over Ear H...</td>\n",
       "      <td>1,599</td>\n",
       "      <td>4.1 out of 5 stars</td>\n",
       "    </tr>\n",
       "    <tr>\n",
       "      <th>15</th>\n",
       "      <td>Logitech H111 Wired On Ear Headphones With Mic...</td>\n",
       "      <td>690</td>\n",
       "      <td>4.0 out of 5 stars</td>\n",
       "    </tr>\n",
       "    <tr>\n",
       "      <th>16</th>\n",
       "      <td>boAt Bassheads 100 in Ear Wired Earphones with...</td>\n",
       "      <td>379</td>\n",
       "      <td>4.1 out of 5 stars</td>\n",
       "    </tr>\n",
       "    <tr>\n",
       "      <th>17</th>\n",
       "      <td>pTron Tangent Lite Bluetooth 5.0 Wireless Head...</td>\n",
       "      <td>599</td>\n",
       "      <td>3.5 out of 5 stars</td>\n",
       "    </tr>\n",
       "    <tr>\n",
       "      <th>18</th>\n",
       "      <td>boAt Rockerz 370 Bluetooth Wireless On Ear Hea...</td>\n",
       "      <td>999</td>\n",
       "      <td>4.0 out of 5 stars</td>\n",
       "    </tr>\n",
       "    <tr>\n",
       "      <th>19</th>\n",
       "      <td>JBL C100SI In-Ear Headphones with Mic (Red)</td>\n",
       "      <td>599</td>\n",
       "      <td>4.1 out of 5 stars</td>\n",
       "    </tr>\n",
       "    <tr>\n",
       "      <th>20</th>\n",
       "      <td>Sony WH-CH510 Bluetooth Wireless On Ear Headph...</td>\n",
       "      <td>2,790</td>\n",
       "      <td>3.9 out of 5 stars</td>\n",
       "    </tr>\n",
       "    <tr>\n",
       "      <th>21</th>\n",
       "      <td>boAt Rockerz 330 with ASAP Charge, Enhanced Ba...</td>\n",
       "      <td>1,499</td>\n",
       "      <td>4.1 out of 5 stars</td>\n",
       "    </tr>\n",
       "    <tr>\n",
       "      <th>22</th>\n",
       "      <td>boAt Rockerz 450 Bluetooth Wireless On Ear Hea...</td>\n",
       "      <td>1,499</td>\n",
       "      <td>4.1 out of 5 stars</td>\n",
       "    </tr>\n",
       "  </tbody>\n",
       "</table>\n",
       "</div>"
      ],
      "text/plain": [
       "                                                title  price  \\\n",
       "0   Infinity (JBL) Glide 510, 72 Hrs Playtime with...  1,499   \n",
       "1   Lenovo 110 Wired On Ear Headphones with Mic (W...  1,699   \n",
       "2   boAt Rockerz 550 Bluetooth Wireless Over Ear H...  1,799   \n",
       "3   boAt Bassheads 100 Wired in Ear Earphones with...    379   \n",
       "4   boAt Rockerz 450 Bluetooth Wireless On Ear Hea...  1,499   \n",
       "5   Logitech H111 Wired Over Ear Headphones With M...    798   \n",
       "6   boAt Rockerz 450 Bluetooth Wireless On Ear Hea...  1,399   \n",
       "7   boAt Bassheads 900 Wired On Ear Headphones wit...    799   \n",
       "8   boAt Rockerz 510 Bluetooth Wireless Over Ear H...  1,399   \n",
       "9   pTron Pride Lite HBE (High Bass Earphones) in-...    199   \n",
       "10  Sony MDR-ZX110A Wired On Ear Headphone without...    599   \n",
       "11  Boat Rockerz 425 Bluetooth Wireless Over Ear H...  1,299   \n",
       "12  JBL Tune 215BT, 16 Hrs Playtime with Quick Cha...  1,499   \n",
       "13  pTron Studio Lite Stereo Sound Wired Over Ear ...    399   \n",
       "14  boAt Rockerz 550 Bluetooth Wireless Over Ear H...  1,599   \n",
       "15  Logitech H111 Wired On Ear Headphones With Mic...    690   \n",
       "16  boAt Bassheads 100 in Ear Wired Earphones with...    379   \n",
       "17  pTron Tangent Lite Bluetooth 5.0 Wireless Head...    599   \n",
       "18  boAt Rockerz 370 Bluetooth Wireless On Ear Hea...    999   \n",
       "19      JBL C100SI In-Ear Headphones with Mic (Red)      599   \n",
       "20  Sony WH-CH510 Bluetooth Wireless On Ear Headph...  2,790   \n",
       "21  boAt Rockerz 330 with ASAP Charge, Enhanced Ba...  1,499   \n",
       "22  boAt Rockerz 450 Bluetooth Wireless On Ear Hea...  1,499   \n",
       "\n",
       "                rating  \n",
       "0   4.2 out of 5 stars  \n",
       "1   4.2 out of 5 stars  \n",
       "2   4.1 out of 5 stars  \n",
       "3   4.1 out of 5 stars  \n",
       "4   4.1 out of 5 stars  \n",
       "5   4.0 out of 5 stars  \n",
       "6   4.1 out of 5 stars  \n",
       "7   4.2 out of 5 stars  \n",
       "8   4.2 out of 5 stars  \n",
       "9   3.6 out of 5 stars  \n",
       "10  4.0 out of 5 stars  \n",
       "11  3.9 out of 5 stars  \n",
       "12  3.9 out of 5 stars  \n",
       "13  3.5 out of 5 stars  \n",
       "14  4.1 out of 5 stars  \n",
       "15  4.0 out of 5 stars  \n",
       "16  4.1 out of 5 stars  \n",
       "17  3.5 out of 5 stars  \n",
       "18  4.0 out of 5 stars  \n",
       "19  4.1 out of 5 stars  \n",
       "20  3.9 out of 5 stars  \n",
       "21  4.1 out of 5 stars  \n",
       "22  4.1 out of 5 stars  "
      ]
     },
     "execution_count": 45,
     "metadata": {},
     "output_type": "execute_result"
    }
   ],
   "source": [
    "pd.DataFrame(data_list)"
   ]
  },
  {
   "cell_type": "code",
   "execution_count": null,
   "metadata": {},
   "outputs": [],
   "source": []
  }
 ],
 "metadata": {
  "interpreter": {
   "hash": "203ec5af3e26acf3e3c83a4183d4b4efe59642f60e2721ccf6236536a59ece46"
  },
  "kernelspec": {
   "display_name": "Python 3.9.7 ('base')",
   "language": "python",
   "name": "python3"
  },
  "language_info": {
   "codemirror_mode": {
    "name": "ipython",
    "version": 3
   },
   "file_extension": ".py",
   "mimetype": "text/x-python",
   "name": "python",
   "nbconvert_exporter": "python",
   "pygments_lexer": "ipython3",
   "version": "3.9.13"
  },
  "orig_nbformat": 4
 },
 "nbformat": 4,
 "nbformat_minor": 2
}
