{
 "cells": [
  {
   "cell_type": "code",
   "execution_count": 1,
   "metadata": {},
   "outputs": [],
   "source": [
    "import requests #  collect the page from the web\n",
    "from bs4 import BeautifulSoup # parse the page\n",
    "from fake_useragent import UserAgent\n",
    "import re # regular expression"
   ]
  },
  {
   "cell_type": "code",
   "execution_count": null,
   "metadata": {},
   "outputs": [],
   "source": []
  },
  {
   "cell_type": "code",
   "execution_count": 2,
   "metadata": {},
   "outputs": [
    {
     "name": "stdout",
     "output_type": "stream",
     "text": [
      "<Response [200]>\n",
      "Page found\n"
     ]
    }
   ],
   "source": [
    "url = \"https://www.flipkart.com/kutchina-30-litre-zephire-30-l-oven-toaster-grill-otg/p/itm3d3c6ab9d4d21?pid=OTNG588ZAWHPJYDN&lid=LSTOTNG588ZAWHPJYDNHB6R6C&marketplace=FLIPKART&store=j9e&srno=b_1_1&otracker=hp_omu_Deals%2Bof%2Bthe%2BDay_3_4.dealCard.OMU_4ZMLVX21QJTE_3&otracker1=hp_omu_SECTIONED_manualRanking_neo%2Fmerchandising_Deals%2Bof%2Bthe%2BDay_NA_dealCard_cc_3_NA_view-all_3&fm=neo%2Fmerchandising&iid=en_V%2F0BkRFD1boi3cNwKkdgc0piprvwej05Yr6e5hVxQqkt%2BngFnJt8PPGlzYydDvbbUI9KK8j0uR3%2BJbDGNhRlAA%3D%3D&ppt=browse&ppn=browse&ssid=hcsdbg8akw0000001654579958364\"\n",
    "ua = UserAgent()\n",
    "headers = {'User-Agent': ua.random}\n",
    "page = requests.get(\n",
    "    url, \n",
    "    headers=headers,\n",
    "    cookies={\n",
    "        \"session-id\":\"\", \"session-id-time\":\"\", \"session-token\":\"\"\n",
    "    })\n",
    "print(page)\n",
    "if page.status_code == 404:\n",
    "    print(\"Page not found\")\n",
    "elif page.status_code == 503:\n",
    "    print(\"Service unavailable\")\n",
    "elif page.status_code == 200:\n",
    "    print(\"Page found\")\n",
    "    soup = BeautifulSoup(page.content, 'html.parser')\n",
    "    "
   ]
  },
  {
   "cell_type": "code",
   "execution_count": 3,
   "metadata": {},
   "outputs": [],
   "source": [
    "def validate_url(url):\n",
    "    regex = re.compile(r'^(?:http)s?://',re.IGNORECASE)\n",
    "    return re.match(regex, url) is not None\n",
    "\n",
    "def clean_url(url):\n",
    "    if '?' in url:\n",
    "        url = url.split('?')[0]\n",
    "    return url"
   ]
  },
  {
   "cell_type": "code",
   "execution_count": 4,
   "metadata": {},
   "outputs": [
    {
     "name": "stdout",
     "output_type": "stream",
     "text": [
      "https://www.flipkart.com/kutchina-30-litre-zephire-30-l-oven-toaster-grill-otg/p/itm3d3c6ab9d4d21\n"
     ]
    },
    {
     "data": {
      "text/plain": [
       "True"
      ]
     },
     "execution_count": 4,
     "metadata": {},
     "output_type": "execute_result"
    }
   ],
   "source": [
    "url = \"https://www.flipkart.com/kutchina-30-litre-zephire-30-l-oven-toaster-grill-otg/p/itm3d3c6ab9d4d21?pid=OTNG588ZAWHPJYDN&lid=LSTOTNG588ZAWHPJYDNHB6R6C&marketplace=FLIPKART&store=j9e&srno=b_1_1&otracker=hp_omu_Deals%2Bof%2Bthe%2BDay_3_4.dealCard.OMU_4ZMLVX21QJTE_3&otracker1=hp_omu_SECTIONED_manualRanking_neo%2Fmerchandising_Deals%2Bof%2Bthe%2BDay_NA_dealCard_cc_3_NA_view-all_3&fm=neo%2Fmerchandising&iid=en_V%2F0BkRFD1boi3cNwKkdgc0piprvwej05Yr6e5hVxQqkt%2BngFnJt8PPGlzYydDvbbUI9KK8j0uR3%2BJbDGNhRlAA%3D%3D&ppt=browse&ppn=browse&ssid=hcsdbg8akw0000001654579958364\"\n",
    "c_url = clean_url(url) \n",
    "print(c_url)\n",
    "validate_url(url)"
   ]
  },
  {
   "cell_type": "code",
   "execution_count": 5,
   "metadata": {},
   "outputs": [],
   "source": [
    "def get_page(url,headers=None,cookies=None):\n",
    "    url = clean_url(url)\n",
    "    if not validate_url(url):\n",
    "        print(f\"Invalid url : {url}\")\n",
    "        return None\n",
    "    ua = UserAgent()\n",
    "    if headers is None:\n",
    "        headers = {'User-Agent': ua.random}\n",
    "    if cookies is None:\n",
    "        cookies = {\n",
    "            \"session-id\":\"\", \"session-id-time\":\"\", \"session-token\":\"\"\n",
    "        }\n",
    "    page = requests.get(url,headers=headers,cookies=cookies)\n",
    "    if page.status_code == 404:\n",
    "        print(\"Page not found\")\n",
    "        return None\n",
    "    elif page.status_code == 503:\n",
    "        print(\"Service unavailable\")\n",
    "        return None\n",
    "    elif page.status_code == 200:\n",
    "        soup = BeautifulSoup(page.content, 'html.parser')\n",
    "        return soup"
   ]
  },
  {
   "cell_type": "code",
   "execution_count": 6,
   "metadata": {},
   "outputs": [
    {
     "data": {
      "text/plain": [
       "bs4.BeautifulSoup"
      ]
     },
     "execution_count": 6,
     "metadata": {},
     "output_type": "execute_result"
    }
   ],
   "source": [
    "type(get_page(url) )"
   ]
  },
  {
   "cell_type": "code",
   "execution_count": 7,
   "metadata": {},
   "outputs": [],
   "source": [
    "soup = get_page(url=\"https://www.amazon.in/Logitech-B100-Optical-Mouse-Black/dp/B003L62T7W/?_encoding=UTF8&pd_rd_w=dmUzS&content-id=amzn1.sym.e0e8ce89-ede3-4c51-b6ad-44989efc8536&pf_rd_p=e0e8ce89-ede3-4c51-b6ad-44989efc8536&pf_rd_r=PDFZ4FW5F8TFXPZ3S63F&pd_rd_wg=2aTJO&pd_rd_r=b30a3e93-5ffa-4498-a78c-2b6a1780539e&ref_=pd_gw_ci_mcx_mr_hp_d\")"
   ]
  },
  {
   "cell_type": "markdown",
   "metadata": {},
   "source": [
    "# soup data extraction"
   ]
  },
  {
   "cell_type": "code",
   "execution_count": 8,
   "metadata": {},
   "outputs": [
    {
     "data": {
      "text/plain": [
       "bs4.BeautifulSoup"
      ]
     },
     "execution_count": 8,
     "metadata": {},
     "output_type": "execute_result"
    }
   ],
   "source": [
    "type(soup)"
   ]
  },
  {
   "cell_type": "code",
   "execution_count": 9,
   "metadata": {},
   "outputs": [
    {
     "name": "stdout",
     "output_type": "stream",
     "text": [
      "item can be used\n"
     ]
    }
   ],
   "source": [
    "\n",
    "if isinstance(soup, BeautifulSoup):\n",
    "    print('item can be used')\n",
    "else:\n",
    "    print(\"error\")"
   ]
  },
  {
   "cell_type": "code",
   "execution_count": 10,
   "metadata": {},
   "outputs": [
    {
     "data": {
      "text/plain": [
       "'        Logitech B100 Wired USB Mouse, 3 yr Warranty, 800 DPI Optical Tracking, Ambidextrous PC/Mac/Laptop - Black       '"
      ]
     },
     "execution_count": 10,
     "metadata": {},
     "output_type": "execute_result"
    }
   ],
   "source": [
    "soup.find('span',attrs={'id':'productTitle'}).text"
   ]
  },
  {
   "cell_type": "code",
   "execution_count": 11,
   "metadata": {},
   "outputs": [
    {
     "data": {
      "text/plain": [
       "'245.'"
      ]
     },
     "execution_count": 11,
     "metadata": {},
     "output_type": "execute_result"
    }
   ],
   "source": [
    "soup.find('span',attrs={'class':'a-price-whole'}).text"
   ]
  },
  {
   "cell_type": "code",
   "execution_count": 12,
   "metadata": {},
   "outputs": [
    {
     "data": {
      "text/plain": [
       "'/stores/Logitech/page/EB4825FF-261C-4334-A53E-A746981F7C24?ref_=ast_bln'"
      ]
     },
     "execution_count": 12,
     "metadata": {},
     "output_type": "execute_result"
    }
   ],
   "source": [
    "soup.find('a',attrs={'id':'bylineInfo'}).attrs.get('href')"
   ]
  },
  {
   "cell_type": "code",
   "execution_count": 26,
   "metadata": {},
   "outputs": [],
   "source": [
    "def extract_one(soup, **selectors):\n",
    "    if not isinstance(soup,BeautifulSoup):\n",
    "        print(\"Not a BeautifulSoup object\")\n",
    "        return None\n",
    "    data = {}\n",
    "    for key,info in selectors.items():\n",
    "        tag = info.get('t','div')\n",
    "        attrs = info.get('a',None)\n",
    "        out = info.get('o','text')\n",
    "        if out == 'text':\n",
    "            data[key] = soup.find(tag,attrs=attrs).text\n",
    "        elif out == 'href':\n",
    "            data[key] = soup.find(tag,attrs=attrs).attrs.get('href')\n",
    "        elif out == 'src':\n",
    "            data[key] = soup.find(tag,attrs=attrs).attrs.get('src')\n",
    "    return data\n",
    "    "
   ]
  },
  {
   "cell_type": "code",
   "execution_count": 27,
   "metadata": {},
   "outputs": [
    {
     "name": "stdout",
     "output_type": "stream",
     "text": [
      "{'title': '        Logitech B100 Wired USB Mouse, 3 yr Warranty, 800 DPI Optical Tracking, Ambidextrous PC/Mac/Laptop - Black       ', 'price': '245.', 'link': '/stores/Logitech/page/EB4825FF-261C-4334-A53E-A746981F7C24?ref_=ast_bln', 'total_rating': '26,377 ratings'}\n"
     ]
    }
   ],
   "source": [
    "titleDict = {'t':'span','a':{'id':'productTitle'}}\n",
    "priceDict = {'t':'span','a':{'class':'a-price-whole'}}\n",
    "linkDict = {'t':'a','a':{'id':'bylineInfo'},'o':'href'}\n",
    "totalRating = dict(t='span',a={'id':'acrCustomerReviewText'})\n",
    "print(extract_one(soup,title=titleDict,price=priceDict,link=linkDict,total_rating=totalRating))"
   ]
  },
  {
   "cell_type": "code",
   "execution_count": null,
   "metadata": {},
   "outputs": [],
   "source": []
  }
 ],
 "metadata": {
  "interpreter": {
   "hash": "203ec5af3e26acf3e3c83a4183d4b4efe59642f60e2721ccf6236536a59ece46"
  },
  "kernelspec": {
   "display_name": "Python 3.9.7 ('base')",
   "language": "python",
   "name": "python3"
  },
  "language_info": {
   "codemirror_mode": {
    "name": "ipython",
    "version": 3
   },
   "file_extension": ".py",
   "mimetype": "text/x-python",
   "name": "python",
   "nbconvert_exporter": "python",
   "pygments_lexer": "ipython3",
   "version": "3.9.7"
  },
  "orig_nbformat": 4
 },
 "nbformat": 4,
 "nbformat_minor": 2
}
