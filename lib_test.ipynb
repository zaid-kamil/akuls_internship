{
 "cells": [
  {
   "cell_type": "code",
   "execution_count": 1,
   "metadata": {},
   "outputs": [],
   "source": [
    "from dputils import scrape"
   ]
  },
  {
   "cell_type": "code",
   "execution_count": 2,
   "metadata": {},
   "outputs": [],
   "source": [
    "soup = scrape.get_webpage_data('https://www.flipkart.com/motorola-g60-moonless-128-gb/p/itma894654fddb46?pid=MOBG9CJ6KRYW4NJT&lid=LSTMOBG9CJ6KRYW4NJTP2I8X0&marketplace=FLIPKART&store=tyy%2F4io&srno=b_1_1&otracker=hp_banner_1_7.bannerX3.BANNER_7VOL2XHPWW89&fm=neo%2Fmerchandising&iid=4ea86c1a-3c6c-41e7-b0c9-c824e15e772b.MOBG9CJ6KRYW4NJT.SEARCH&ppt=hp&ppn=homepage&ssid=oho6wu1ids0000001654923624732')"
   ]
  },
  {
   "cell_type": "code",
   "execution_count": 3,
   "metadata": {},
   "outputs": [],
   "source": [
    "out = scrape.extract_one(soup,\n",
    "                        title={'tag':'span','attrs':{'class':'B_NuCI'}},\n",
    "                        price={'tag':'div','attrs':{'class':'_30jeq3 _16Jk6d'}},)"
   ]
  },
  {
   "cell_type": "code",
   "execution_count": 4,
   "metadata": {},
   "outputs": [
    {
     "data": {
      "text/plain": [
       "{'title': 'MOTOROLA G60 (Moonless, 128 GB)\\xa0\\xa0(6 GB RAM)',\n",
       " 'price': '₹15,299'}"
      ]
     },
     "execution_count": 4,
     "metadata": {},
     "output_type": "execute_result"
    }
   ],
   "source": [
    "out"
   ]
  },
  {
   "cell_type": "code",
   "execution_count": 5,
   "metadata": {},
   "outputs": [
    {
     "name": "stdout",
     "output_type": "stream",
     "text": [
      "\u001b[1;31mSignature:\u001b[0m \u001b[0mscrape\u001b[0m\u001b[1;33m.\u001b[0m\u001b[0mextract_one\u001b[0m\u001b[1;33m(\u001b[0m\u001b[0msoup\u001b[0m\u001b[1;33m:\u001b[0m \u001b[0mbs4\u001b[0m\u001b[1;33m.\u001b[0m\u001b[0mBeautifulSoup\u001b[0m\u001b[1;33m,\u001b[0m \u001b[1;33m**\u001b[0m\u001b[0mselectors\u001b[0m\u001b[1;33m)\u001b[0m \u001b[1;33m->\u001b[0m \u001b[0mdict\u001b[0m\u001b[1;33m\u001b[0m\u001b[1;33m\u001b[0m\u001b[0m\n",
      "\u001b[1;31mDocstring:\u001b[0m\n",
      "Extracts a single data item from given BeautifulSoup object\n",
      "Output will be a dict of {title : data_stored_in_selectors}\n",
      "\n",
      "Args:\n",
      "soup (BeautifulSoup): Contains entire page data as BeautifulSoup object. Data will be extracted from this object\n",
      "**selectors (dict): dict of {key : info}\n",
      "    info must be written in following manner:\n",
      "       first key is 'tag' with value as tag from where data is obtained\n",
      "       second key is 'attrs' with value as dict containing id or class information\n",
      "       third key is the output type of data: text, href or src (for images)\n",
      "    Valid Examples:\n",
      "       titleDict = {'tag' : 'span', 'attrs' : {'id' : 'productTitle'}, 'output' : 'text'} (info)\n",
      "       priceDict = {'tag' : 'span', 'attrs' : {'class' : 'a-price-whole'}, 'output' : 'text'}\n",
      "    Valid call: \n",
      "       extract_one(soup, titleDict, priceDict) \n",
      "\u001b[1;31mFile:\u001b[0m      c:\\users\\zaid\\miniconda\\lib\\site-packages\\dputils\\scrape.py\n",
      "\u001b[1;31mType:\u001b[0m      function\n"
     ]
    }
   ],
   "source": [
    "scrape.extract_one?"
   ]
  },
  {
   "cell_type": "code",
   "execution_count": null,
   "metadata": {},
   "outputs": [],
   "source": []
  }
 ],
 "metadata": {
  "interpreter": {
   "hash": "203ec5af3e26acf3e3c83a4183d4b4efe59642f60e2721ccf6236536a59ece46"
  },
  "kernelspec": {
   "display_name": "Python 3.9.7 ('base')",
   "language": "python",
   "name": "python3"
  },
  "language_info": {
   "codemirror_mode": {
    "name": "ipython",
    "version": 3
   },
   "file_extension": ".py",
   "mimetype": "text/x-python",
   "name": "python",
   "nbconvert_exporter": "python",
   "pygments_lexer": "ipython3",
   "version": "3.9.7"
  },
  "orig_nbformat": 4
 },
 "nbformat": 4,
 "nbformat_minor": 2
}
